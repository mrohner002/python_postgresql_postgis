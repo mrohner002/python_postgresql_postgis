{
 "cells": [
  {
   "cell_type": "markdown",
   "metadata": {},
   "source": [
    "# Python with PostgreSQL & PostGIS\n",
    "\n",
    "<span style=\"color: blue;\">Note: Please always run the complete Jupyter Notebook from the beginning, as object names such as 'sql' and 'gdf' are reused in the code cells.</span>"
   ]
  },
  {
   "cell_type": "markdown",
   "metadata": {},
   "source": [
    "## Libraries and Settings"
   ]
  },
  {
   "cell_type": "code",
   "execution_count": 1,
   "metadata": {},
   "outputs": [
    {
     "name": "stdout",
     "output_type": "stream",
     "text": [
      "/workspaces/python_postgresql_postgis\n"
     ]
    }
   ],
   "source": [
    "# Libraries\n",
    "import os\n",
    "import folium\n",
    "import pandas as pd\n",
    "import geopandas as gpd\n",
    "from sqlalchemy import create_engine, text\n",
    "\n",
    "# Ignore warnings\n",
    "import warnings\n",
    "warnings.filterwarnings(\"ignore\")\n",
    "\n",
    "print(os.getcwd())"
   ]
  },
  {
   "cell_type": "markdown",
   "metadata": {},
   "source": [
    "## Create database connection"
   ]
  },
  {
   "cell_type": "code",
   "execution_count": 2,
   "metadata": {},
   "outputs": [
    {
     "name": "stdout",
     "output_type": "stream",
     "text": [
      "('osm_switzerland',)\n"
     ]
    }
   ],
   "source": [
    "# Set up database connection\n",
    "user = \"pgadmin\"\n",
    "password = \"geheim\"\n",
    "host = \"localhost\"\n",
    "port = \"5432\"\n",
    "database = \"osm_switzerland\"\n",
    "\n",
    "# Create Connection URL\n",
    "db_connection_url = \"postgresql://\" + user + \":\" + password +\\\n",
    "                    \"@\" + host + \":\" + port + \"/\" + database\n",
    "\n",
    "# Create SQLAlchemy Engine\n",
    "engine = create_engine(db_connection_url)\n",
    "\n",
    "# Test database connection\n",
    "with engine.connect() as connection:\n",
    "    result = connection.execute(text('SELECT current_database()'))\n",
    "    print(result.fetchone())\n",
    "\n",
    "# Dispose the engine\n",
    "engine.dispose()"
   ]
  },
  {
   "cell_type": "markdown",
   "metadata": {},
   "source": [
    "## List tables in database"
   ]
  },
  {
   "cell_type": "code",
   "execution_count": null,
   "metadata": {},
   "outputs": [],
   "source": [
    "# Create SQLAlchemy Engine\n",
    "engine = create_engine(db_connection_url)\n",
    "\n",
    "# Open a connection\n",
    "with engine.connect() as connection:\n",
    "\n",
    "    # Execute the query\n",
    "    result = connection.execute(text(\"\"\"SELECT table_name\n",
    "                                        FROM information_schema.tables\n",
    "                                        WHERE table_schema = 'public';\"\"\"))\n",
    "    \n",
    "    # Fetch and print the results\n",
    "    for row in result:\n",
    "        print(row[0])\n",
    "\n",
    "# Dispose the engine\n",
    "engine.dispose()"
   ]
  },
  {
   "cell_type": "markdown",
   "metadata": {},
   "source": [
    "## Show columns and data types of selected table"
   ]
  },
  {
   "cell_type": "code",
   "execution_count": null,
   "metadata": {},
   "outputs": [],
   "source": [
    "# Create SQLAlchemy Engine\n",
    "engine = create_engine(db_connection_url)\n",
    "\n",
    "# Specify your table name\n",
    "table_name = 'planet_osm_polygon'\n",
    "\n",
    "# Query to get column information\n",
    "query = f\"\"\"SELECT column_name, data_type \n",
    "        FROM information_schema.columns \n",
    "        WHERE table_name = '{table_name}'\"\"\"\n",
    "\n",
    "# Execute the query and read the result into a DataFrame\n",
    "df = pd.read_sql(query, engine)\n",
    "\n",
    "# Dispose the engine\n",
    "engine.dispose()\n",
    "\n",
    "# Print the DataFrame\n",
    "df"
   ]
  },
  {
   "cell_type": "markdown",
   "metadata": {},
   "source": [
    "## Query: Select buildings for which full address is available in defined zip code areas"
   ]
  },
  {
   "cell_type": "code",
   "execution_count": null,
   "metadata": {},
   "outputs": [],
   "source": [
    "# Create SQLAlchemy Engine\n",
    "engine = create_engine(db_connection_url)\n",
    "\n",
    "# Define SQL query \n",
    "sql = \"\"\"SELECT\n",
    "                p.osm_id,\n",
    "                p.\"addr:street\",\n",
    "                p.\"addr:housenumber\",\n",
    "                p.\"addr:city\",\n",
    "                p.\"addr:postcode\",\n",
    "                p.building,\n",
    "                st_transform(p.way, 4326) AS geom\n",
    "        FROM\n",
    "                public.planet_osm_polygon AS p\n",
    "        WHERE\n",
    "                p.\"addr:street\" IS NOT NULL\n",
    "                AND p.\"addr:housenumber\" IS NOT NULL\n",
    "                AND p.\"addr:city\" IS NOT NULL\n",
    "                AND p.\"addr:postcode\" IN ('8001', '8002')\"\"\"\n",
    "\n",
    "# Query the database and store the result in a GeoDataFrame\n",
    "gdf = gpd.GeoDataFrame.from_postgis(sql, engine)\n",
    "\n",
    "# Dispose the engine\n",
    "engine.dispose()\n",
    "\n",
    "# Print the GeoDataFrame\n",
    "gdf\n"
   ]
  },
  {
   "cell_type": "markdown",
   "metadata": {},
   "source": [
    "## Show selected features on map\n",
    "\n",
    "<span style=\"color: blue;\">Note the popup field in the map, which has been added to provide additional information about buildings.</span>\n",
    "\n",
    "<span style=\"color: blue;\">Example of alternative background maps (maptiles) are:</span>\n",
    "- <span style=\"color: blue;\">EsriWorldImagery</span>\n",
    "- <span style=\"color: blue;\">EsriWorldTopoMap</span>\n",
    "- <span style=\"color: blue;\">EsriWorldGrayCanvas</span>\n",
    "- <span style=\"color: blue;\">CartoDBDarkMatter</span>\n",
    "- <span style=\"color: blue;\">CartoDBPositron</span>\n"
   ]
  },
  {
   "cell_type": "code",
   "execution_count": null,
   "metadata": {},
   "outputs": [],
   "source": [
    "# Ensure the GeoDataFrame has the correct projection (EPSG:4326)\n",
    "if gdf.crs is None:\n",
    "    gdf.set_crs(epsg=4326, inplace=True)\n",
    "else:\n",
    "    pass\n",
    "\n",
    "# Calculate the mean longitude and latitude for the map center\n",
    "centroids = gdf.geometry.centroid\n",
    "lon = centroids.x.mean()\n",
    "lat = centroids.y.mean()\n",
    "\n",
    "# Initialize the map\n",
    "m = folium.Map(location=[lat, lon], \n",
    "               zoom_start=15,\n",
    "               tiles='EsriWorldImagery')\n",
    "\n",
    "# Map settings\n",
    "folium.GeoJson(\n",
    "    gdf,\n",
    "    name='geojson',\n",
    "    weight=0.5,\n",
    "    fill_color='greenyellow',\n",
    "    fillOpacity=0.8,\n",
    "    popup=folium.GeoJsonPopup(fields=['addr:street',\n",
    "                                      'addr:housenumber',\n",
    "                                      'addr:city',\n",
    "                                      'addr:postcode',\n",
    "                                      'building'])\n",
    ").add_to(m)\n",
    "\n",
    "folium.LayerControl().add_to(m)\n",
    "\n",
    "# Plot map\n",
    "m"
   ]
  },
  {
   "cell_type": "markdown",
   "metadata": {},
   "source": [
    "## Query: Select coffee stores in Switzerland"
   ]
  },
  {
   "cell_type": "code",
   "execution_count": null,
   "metadata": {},
   "outputs": [],
   "source": [
    "# Create SQLAlchemy Engine\n",
    "engine = create_engine(db_connection_url)  \n",
    "\n",
    "# Define SQL query\n",
    "sql = \"\"\"SELECT\n",
    "            h.osm_id,\n",
    "            h.shop,\n",
    "            h.name,\n",
    "            ST_Transform(h.way, 4326) AS geom\n",
    "        FROM planet_osm_point h\n",
    "        WHERE h.shop = 'coffee';\"\"\"\n",
    "\n",
    "# Query the database and store the result in a GeoDataFrame\n",
    "gdf = gpd.GeoDataFrame.from_postgis(sql, engine)\n",
    "\n",
    "# Dispose the engine\n",
    "engine.dispose()\n",
    "\n",
    "# Print the GeoDataFrame\n",
    "gdf\n"
   ]
  },
  {
   "cell_type": "markdown",
   "metadata": {},
   "source": [
    "## Show selected features on map"
   ]
  },
  {
   "cell_type": "code",
   "execution_count": null,
   "metadata": {},
   "outputs": [],
   "source": [
    "# Ensure the GeoDataFrame has the correct projection (EPSG:4326)\n",
    "if gdf.crs is None:\n",
    "    gdf.set_crs(epsg=4326, inplace=True)\n",
    "else:\n",
    "    pass\n",
    "\n",
    "# Calculate the mean longitude and latitude for the map center\n",
    "centroids = gdf.geometry.centroid\n",
    "lon = centroids.x.mean()\n",
    "lat = centroids.y.mean()\n",
    "\n",
    "# Initialize the map\n",
    "m = folium.Map(location=[lat, lon], \n",
    "               zoom_start=9, \n",
    "               tiles='EsriWorldTopoMap')\n",
    "\n",
    "# Map settings\n",
    "folium.GeoJson(\n",
    "    gdf,\n",
    "    name='map',\n",
    "    popup=folium.GeoJsonPopup(fields=['name', 'shop'])\n",
    ").add_to(m)\n",
    "\n",
    "folium.LayerControl().add_to(m)\n",
    "\n",
    "# Plot map\n",
    "m"
   ]
  },
  {
   "cell_type": "markdown",
   "metadata": {},
   "source": [
    "## Query: Select all supermarkets in a distance of 1000m around the central station in the city of Winterthur.\n",
    "\n",
    "<span style=\"color: blue;\">Note:</span>\n",
    "\n",
    "<span style=\"color: blue;\">For each supermarket, the distance to the central station in meters is calculated and stored as new column 'distance_meters'.</span>\n",
    "\n",
    "<span style=\"color: blue;\">In addition, a popup field was added to the map, allowing users to view detailed information about each selected feature when they click on it.</span>\n",
    "\n",
    "<span style=\"color: blue;\">The WGS84 (World Geodetic System 1984) coordinates in ST_MakePoint(LON, LAT) were derived from: https://tools.retorte.ch/map.</span>\n"
   ]
  },
  {
   "cell_type": "code",
   "execution_count": null,
   "metadata": {},
   "outputs": [],
   "source": [
    "# Create SQLAlchemy Engine\n",
    "engine = create_engine(db_connection_url)  \n",
    "\n",
    "# Define SQL query\n",
    "sql = \"\"\"SELECT\n",
    "            p.osm_id,\n",
    "            p.shop,\n",
    "            p.name,\n",
    "            ST_Distance(\n",
    "                ST_Transform(p.way, 4326)::geography,\n",
    "                -- Central station coordinates\n",
    "                ST_SetSRID(ST_MakePoint(8.72397, 47.50031), 4326)::geography\n",
    "            ) AS distance_meters,\n",
    "            ST_TRANSFORM(p.way, 4326) AS geom\n",
    "        FROM\n",
    "            planet_osm_point AS p\n",
    "        WHERE\n",
    "            p.shop = 'supermarket'\n",
    "            AND ST_DWithin(\n",
    "                ST_Transform(p.way, 4326)::geography,\n",
    "                -- Central station coordinates\n",
    "                ST_SetSRID(ST_MakePoint(8.72397, 47.50031), 4326)::geography,\n",
    "                1000\n",
    "            )\n",
    "        ORDER BY distance_meters;\"\"\"\n",
    "\n",
    "# Query the database and store the result in a GeoDataFrame\n",
    "gdf = gpd.GeoDataFrame.from_postgis(sql, engine)\n",
    "\n",
    "# Dispose the engine\n",
    "engine.dispose()\n",
    "\n",
    "# Print the GeoDataFrame\n",
    "gdf\n"
   ]
  },
  {
   "cell_type": "markdown",
   "metadata": {},
   "source": [
    "## Show selected features on map"
   ]
  },
  {
   "cell_type": "code",
   "execution_count": null,
   "metadata": {},
   "outputs": [],
   "source": [
    "# Ensure the GeoDataFrame has the correct projection (EPSG:4326)\n",
    "if gdf.crs is None:\n",
    "    gdf.set_crs(epsg=4326, inplace=True)\n",
    "else:\n",
    "    pass\n",
    "\n",
    "# Calculate the mean longitude and latitude for the map center\n",
    "centroids = gdf.geometry.centroid\n",
    "lon = centroids.x.mean()\n",
    "lat = centroids.y.mean()\n",
    "\n",
    "# Initialize the map\n",
    "m = folium.Map(location=[lat, lon], \n",
    "               zoom_start=16, \n",
    "               tiles='ESRIWorldImagery')\n",
    "\n",
    "# Map settings\n",
    "folium.GeoJson(\n",
    "    gdf,\n",
    "    name='map',\n",
    "    popup=folium.GeoJsonPopup(fields=['name', 'distance_meters'])\n",
    ").add_to(m)\n",
    "\n",
    "folium.LayerControl().add_to(m)\n",
    "\n",
    "# Plot map\n",
    "m"
   ]
  },
  {
   "cell_type": "markdown",
   "metadata": {},
   "source": [
    "## Query: Select all roads classified as 'motorway' and create a 5000m buffer around these roads."
   ]
  },
  {
   "cell_type": "code",
   "execution_count": 24,
   "metadata": {},
   "outputs": [],
   "source": [
    "# Create SQLAlchemy Engine\n",
    "engine = create_engine(db_connection_url)\n",
    "\n",
    "# Define SQL query (major roads)\n",
    "sql = \"\"\"-- Create buffer around major roads\n",
    "        SELECT \n",
    "            1 as group_id,\n",
    "            ST_TRANSFORM(ST_UNION(ST_Buffer(p.way::geometry, 5000)), 4326) AS geom\n",
    "        FROM public.planet_osm_roads AS p\n",
    "        WHERE\n",
    "            highway = 'motorway';\"\"\"\n",
    "\n",
    "# Query the database and store the result in a GeoDataFrame\n",
    "gdf = gpd.GeoDataFrame.from_postgis(sql, engine, geom_col='geom')\n",
    "\n",
    "# Dispose the engine\n",
    "engine.dispose()"
   ]
  },
  {
   "cell_type": "markdown",
   "metadata": {},
   "source": [
    "## Show selected features on map"
   ]
  },
  {
   "cell_type": "code",
   "execution_count": null,
   "metadata": {},
   "outputs": [],
   "source": [
    "# Ensure the GeoDataFrame has the correct projection (EPSG:4326)\n",
    "if gdf.crs is None:\n",
    "    gdf.set_crs(epsg=4326, inplace=True)\n",
    "else:\n",
    "    pass\n",
    "\n",
    "# Calculate the mean longitude and latitude for the map center\n",
    "centroids = gdf.geometry.centroid\n",
    "lon = centroids.x.mean()\n",
    "lat = centroids.y.mean()\n",
    "\n",
    "# Initialize the map\n",
    "m = folium.Map(location=[lat, lon], \n",
    "               zoom_start=9, \n",
    "               tiles='EsriWorldTopoMap')\n",
    "\n",
    "# Map settings\n",
    "folium.GeoJson(\n",
    "    gdf,\n",
    "    name='map'\n",
    ").add_to(m)\n",
    "\n",
    "folium.LayerControl().add_to(m)\n",
    "\n",
    "# Plot map\n",
    "m"
   ]
  },
  {
   "cell_type": "markdown",
   "metadata": {},
   "source": [
    "### Jupyter notebook --footer info-- (please always provide this at the end of each notebook)"
   ]
  },
  {
   "cell_type": "code",
   "execution_count": null,
   "metadata": {},
   "outputs": [],
   "source": [
    "import os\n",
    "import platform\n",
    "import socket\n",
    "from platform import python_version\n",
    "from datetime import datetime\n",
    "\n",
    "print('-----------------------------------')\n",
    "print(os.name.upper())\n",
    "print(platform.system(), '|', platform.release())\n",
    "print('Datetime:', datetime.now().strftime(\"%Y-%m-%d %H:%M:%S\"))\n",
    "print('Python Version:', python_version())\n",
    "print('-----------------------------------')"
   ]
  }
 ],
 "metadata": {
  "kernelspec": {
   "display_name": "gisenv",
   "language": "python",
   "name": "python3"
  },
  "language_info": {
   "codemirror_mode": {
    "name": "ipython",
    "version": 3
   },
   "file_extension": ".py",
   "mimetype": "text/x-python",
   "name": "python",
   "nbconvert_exporter": "python",
   "pygments_lexer": "ipython3",
   "version": "3.12.1"
  }
 },
 "nbformat": 4,
 "nbformat_minor": 2
}
